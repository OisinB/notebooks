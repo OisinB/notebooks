{
 "cells": [
  {
   "cell_type": "code",
   "execution_count": 38,
   "metadata": {
    "collapsed": true
   },
   "outputs": [],
   "source": [
    "import pandas as pd\n",
    "import os\n",
    "import itertools\n",
    "import shutil"
   ]
  },
  {
   "cell_type": "code",
   "execution_count": 24,
   "metadata": {
    "collapsed": true
   },
   "outputs": [],
   "source": [
    "error_file_path = '/Users/oisin-brogan/Downloads/moderated_photos/suggestions_15/errors.txt'"
   ]
  },
  {
   "cell_type": "code",
   "execution_count": 25,
   "metadata": {
    "collapsed": true
   },
   "outputs": [],
   "source": [
    "with open(error_file_path, 'r') as f:\n",
    "    lines = f.readlines()\n",
    "lines = [line.strip() for line in lines]"
   ]
  },
  {
   "cell_type": "code",
   "execution_count": 26,
   "metadata": {
    "collapsed": false
   },
   "outputs": [],
   "source": [
    "lines = [list(x[1]) for x in itertools.groupby(lines, lambda x: x=='') if not x[0]]"
   ]
  },
  {
   "cell_type": "code",
   "execution_count": 27,
   "metadata": {
    "collapsed": true
   },
   "outputs": [],
   "source": [
    "error_kinds = {}\n",
    "for group in lines:\n",
    "    error_kinds[group[0]] = group[1:]"
   ]
  },
  {
   "cell_type": "code",
   "execution_count": 28,
   "metadata": {
    "collapsed": false
   },
   "outputs": [
    {
     "data": {
      "text/plain": [
       "[('Misses_too_many_dissimilar_photos', 1),\n",
       " ('Human_face', 1),\n",
       " ('Time_too_short', 1),\n",
       " ('Missed_dissimilar_start', 1),\n",
       " ('Incorrect_timestamps', 1),\n",
       " ('Nonfood_photo', 2),\n",
       " ('Photo_Modding_or_Snapchat', 3),\n",
       " ('TV_or_Internet_photos', 4),\n",
       " ('2_recipes_close_in_time', 4),\n",
       " ('Too_many_photos_of_finished_meal', 4),\n",
       " ('Duplicates', 5),\n",
       " ('Food_but_not_recipe', 5),\n",
       " ('Restaurant_owner', 6),\n",
       " ('Photos_taken_of_finished_parts_of_dish', 6),\n",
       " ('Restaurant_diner', 13)]"
      ]
     },
     "execution_count": 28,
     "metadata": {},
     "output_type": "execute_result"
    }
   ],
   "source": [
    "sorted([(k, len(v)) for k, v in error_kinds.items()], key=lambda x: x[1])"
   ]
  },
  {
   "cell_type": "markdown",
   "metadata": {},
   "source": [
    "### Create folders for easy viewing"
   ]
  },
  {
   "cell_type": "code",
   "execution_count": 40,
   "metadata": {
    "collapsed": true
   },
   "outputs": [],
   "source": [
    "error_fldr = '/Users/oisin-brogan/Downloads/moderated_photos/suggestions_16/errors/'"
   ]
  },
  {
   "cell_type": "code",
   "execution_count": 41,
   "metadata": {
    "collapsed": true
   },
   "outputs": [],
   "source": [
    "s = '/Users/oisin-brogan/Downloads/moderated_photos/suggestions_16/{0}/{1}/image_list.txt'"
   ]
  },
  {
   "cell_type": "code",
   "execution_count": 42,
   "metadata": {
    "collapsed": false
   },
   "outputs": [],
   "source": [
    "for key in error_kinds.keys():\n",
    "    kind_fldr = error_fldr+'/'+key\n",
    "    if not os.path.exists(kind_fldr):\n",
    "        os.mkdir(kind_fldr)\n",
    "    for error in error_kinds[key]:\n",
    "        user, num = error.split(' ')\n",
    "        suggestion_image_txt = s.format(user, num)\n",
    "        if not os.path.exists(kind_fldr+'/'+error.replace(' ', '_')):\n",
    "            os.mkdir(kind_fldr+'/'+error.replace(' ', '_'))\n",
    "        shutil.copyfile(suggestion_image_txt, kind_fldr+'/'+error.replace(' ', '_')+'/image_list.txt')"
   ]
  },
  {
   "cell_type": "code",
   "execution_count": null,
   "metadata": {
    "collapsed": true
   },
   "outputs": [],
   "source": []
  }
 ],
 "metadata": {
  "anaconda-cloud": {},
  "kernelspec": {
   "display_name": "Python [default]",
   "language": "python",
   "name": "python2"
  },
  "language_info": {
   "codemirror_mode": {
    "name": "ipython",
    "version": 2
   },
   "file_extension": ".py",
   "mimetype": "text/x-python",
   "name": "python",
   "nbconvert_exporter": "python",
   "pygments_lexer": "ipython2",
   "version": "2.7.12"
  }
 },
 "nbformat": 4,
 "nbformat_minor": 1
}
