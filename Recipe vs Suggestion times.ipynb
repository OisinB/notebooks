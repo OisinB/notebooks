{
 "cells": [
  {
   "cell_type": "code",
   "execution_count": 2,
   "metadata": {
    "collapsed": true
   },
   "outputs": [],
   "source": [
    "import pandas as pd\n",
    "import os, sys, shutil\n",
    "sys.path.append('/Users/oisin-brogan/Code/similar_images')\n",
    "from generate_hashes import generate_hashes\n",
    "from process_results import load_dictionary\n",
    "from read_exif import read_exif\n",
    "import rules"
   ]
  },
  {
   "cell_type": "code",
   "execution_count": 3,
   "metadata": {
    "collapsed": true
   },
   "outputs": [],
   "source": [
    "%matplotlib inline"
   ]
  },
  {
   "cell_type": "code",
   "execution_count": 4,
   "metadata": {
    "collapsed": false
   },
   "outputs": [],
   "source": [
    "with open('/Users/oisin-brogan/Downloads/moderated_photos/temp.txt') as f:\n",
    "    times = f.readlines()\n",
    "    times = [float(time.strip()) for time in times]"
   ]
  },
  {
   "cell_type": "code",
   "execution_count": 5,
   "metadata": {
    "collapsed": false
   },
   "outputs": [
    {
     "data": {
      "text/plain": [
       "[4.38333333333,\n",
       " 5.71666666667,\n",
       " 7.31666666667,\n",
       " 7.38333333333,\n",
       " 7.76666666667,\n",
       " 7.88333333333,\n",
       " 7.95,\n",
       " 8.0,\n",
       " 8.33333333333,\n",
       " 8.53333333333,\n",
       " 8.68333333333,\n",
       " 9.0,\n",
       " 9.41666666667,\n",
       " 9.7,\n",
       " 9.9,\n",
       " 10.2,\n",
       " 11.1833333333,\n",
       " 11.6333333333,\n",
       " 11.65,\n",
       " 11.6833333333,\n",
       " 12.9333333333,\n",
       " 13.75,\n",
       " 14.6166666667,\n",
       " 14.7166666667,\n",
       " 15.3333333333,\n",
       " 17.4,\n",
       " 18.4166666667,\n",
       " 18.6,\n",
       " 18.6833333333,\n",
       " 18.7666666667,\n",
       " 19.4333333333,\n",
       " 21.0,\n",
       " 22.0,\n",
       " 22.2,\n",
       " 22.7166666667,\n",
       " 22.8666666667,\n",
       " 23.1833333333,\n",
       " 23.5,\n",
       " 24.1833333333,\n",
       " 24.2833333333,\n",
       " 24.8166666667,\n",
       " 24.8166666667,\n",
       " 24.8166666667,\n",
       " 25.0,\n",
       " 25.35,\n",
       " 25.75,\n",
       " 28.1,\n",
       " 29.2666666667,\n",
       " 29.75,\n",
       " 31.0833333333,\n",
       " 31.0833333333,\n",
       " 31.1166666667,\n",
       " 31.2333333333,\n",
       " 32.5,\n",
       " 33.4833333333,\n",
       " 34.0,\n",
       " 34.0,\n",
       " 35.0,\n",
       " 35.8333333333,\n",
       " 37.5333333333,\n",
       " 37.8,\n",
       " 39.0,\n",
       " 39.0666666667,\n",
       " 39.1,\n",
       " 39.15,\n",
       " 40.4833333333,\n",
       " 41.15,\n",
       " 41.3166666667,\n",
       " 42.1166666667,\n",
       " 43.1833333333,\n",
       " 43.7666666667,\n",
       " 45.1833333333,\n",
       " 46.8,\n",
       " 49.7666666667,\n",
       " 50.05,\n",
       " 50.4166666667,\n",
       " 52.2,\n",
       " 53.6166666667,\n",
       " 56.7166666667,\n",
       " 58.4166666667,\n",
       " 60.95,\n",
       " 61.2833333333,\n",
       " 62.4166666667,\n",
       " 63.5666666667,\n",
       " 64.8833333333,\n",
       " 65.2666666667,\n",
       " 67.65,\n",
       " 70.4666666667,\n",
       " 71.3666666667,\n",
       " 73.25,\n",
       " 73.4,\n",
       " 74.1,\n",
       " 77.5666666667,\n",
       " 78.2166666667,\n",
       " 79.45,\n",
       " 80.1666666667,\n",
       " 81.2333333333,\n",
       " 82.0,\n",
       " 84.0333333333,\n",
       " 84.4833333333,\n",
       " 84.8666666667,\n",
       " 86.2,\n",
       " 87.15,\n",
       " 87.5833333333,\n",
       " 92.9,\n",
       " 95.4666666667,\n",
       " 95.5333333333,\n",
       " 96.55,\n",
       " 100.583333333,\n",
       " 101.516666667,\n",
       " 101.966666667,\n",
       " 104.166666667,\n",
       " 105.483333333,\n",
       " 105.8,\n",
       " 113.7,\n",
       " 114.0,\n",
       " 114.6,\n",
       " 116.45,\n",
       " 117.0,\n",
       " 117.633333333,\n",
       " 120.833333333,\n",
       " 122.833333333,\n",
       " 123.0,\n",
       " 128.366666667,\n",
       " 128.6,\n",
       " 132.466666667,\n",
       " 133.0,\n",
       " 134.416666667,\n",
       " 136.2,\n",
       " 137.4,\n",
       " 138.1,\n",
       " 138.633333333,\n",
       " 139.233333333,\n",
       " 139.816666667,\n",
       " 139.966666667,\n",
       " 140.0,\n",
       " 141.1,\n",
       " 142.716666667,\n",
       " 143.05,\n",
       " 143.316666667,\n",
       " 144.0,\n",
       " 145.633333333,\n",
       " 146.416666667,\n",
       " 146.516666667,\n",
       " 146.533333333,\n",
       " 147.95,\n",
       " 148.733333333]"
      ]
     },
     "execution_count": 5,
     "metadata": {},
     "output_type": "execute_result"
    }
   ],
   "source": [
    "sorted(times)"
   ]
  },
  {
   "cell_type": "code",
   "execution_count": 27,
   "metadata": {
    "collapsed": true
   },
   "outputs": [],
   "source": [
    "step_photos_path = '/Users/oisin-brogan/Downloads/step_photos2/'\n",
    "c_m_photos_path = '/Users/oisin-brogan/Downloads/moderated_photos/'\n",
    "suggestions_fldr_name = 'suggestions_15/'\n",
    "\n",
    "exif_tag = 'datetime'\n",
    "\n",
    "hashs = ['puzzle', 'phash', 'dhash', 'whash']"
   ]
  },
  {
   "cell_type": "code",
   "execution_count": 7,
   "metadata": {
    "collapsed": true
   },
   "outputs": [],
   "source": [
    "step_photos_db = pd.read_csv(step_photos_path + 'db.csv')\n",
    "c_m_photos_db = pd.read_csv(c_m_photos_path + 'db.csv')"
   ]
  },
  {
   "cell_type": "code",
   "execution_count": 8,
   "metadata": {
    "collapsed": false
   },
   "outputs": [
    {
     "name": "stdout",
     "output_type": "stream",
     "text": [
      "Failed on \n",
      "Failed on \n",
      "Failed on \n",
      "Failed on \n",
      "Failed on \n",
      "Failed on \n",
      "Failed on \n",
      "Failed on \n",
      "Failed on \n",
      "Failed on \n",
      "Failed on \n",
      "Failed on \n",
      "Failed on \n",
      "Failed on \n",
      "Failed on \n",
      "Failed on \n",
      "Failed on \n",
      "Failed on \n",
      "Failed on \n",
      "Failed on \n",
      "Failed on \n",
      "Failed on \n",
      "Failed on \n",
      "Failed on \n",
      "Failed on \n",
      "Failed on \n",
      "Failed on \n",
      "Failed on \n",
      "Failed on \n",
      "Failed on \n",
      "Failed on \n",
      "Failed on \n",
      "Failed on \n",
      "Failed on \n",
      "Failed on \n",
      "Failed on \n",
      "Failed on \n",
      "Failed on \n",
      "Failed on \n",
      "Failed on \n",
      "Failed on \n",
      "Failed on \n",
      "Failed on \n",
      "Failed on \n",
      "Failed on \n",
      "Failed on \n",
      "Failed on \n",
      "Failed on \n",
      "Failed on \n",
      "Failed on \n",
      "Failed on \n",
      "Failed on \n",
      "Failed on \n",
      "Failed on \n",
      "Failed on \n",
      "Failed on \n",
      "Failed on \n",
      "Failed on \n",
      "Failed on \n",
      "Failed on \n",
      "Failed on \n",
      "Failed on \n",
      "Failed on \n",
      "Failed on \n",
      "Failed on \n",
      "Failed on \n",
      "Failed on \n",
      "Failed on \n",
      "Failed on \n",
      "Failed on \n",
      "Failed on \n",
      "Failed on \n",
      "Failed on \n",
      "Failed on \n",
      "Failed on \n",
      "Failed on \n",
      "Failed on \n",
      "Failed on \n",
      "Failed on \n",
      "Failed on \n",
      "Failed on \n",
      "Failed on \n",
      "Failed on \n",
      "Failed on \n",
      "Failed on \n",
      "Failed on \n",
      "Failed on \n",
      "Failed on \n",
      "Failed on \n",
      "Failed on \n",
      "Failed on \n",
      "Failed on \n",
      "Failed on \n",
      "Failed on \n",
      "Failed on \n",
      "Failed on \n",
      "Failed on \n",
      "Failed on \n",
      "Failed on \n",
      "Failed on \n",
      "Failed on \n",
      "Failed on \n",
      "Failed on \n",
      "Failed on \n",
      "Failed on \n",
      "Failed on \n",
      "Failed on \n",
      "Failed on \n",
      "Failed on \n",
      "Failed on \n",
      "Failed on \n",
      "Failed on \n",
      "Failed on \n",
      "Failed on \n",
      "Failed on \n",
      "Failed on \n",
      "Failed on \n",
      "Failed on \n",
      "Failed on \n",
      "Failed on \n",
      "Failed on \n",
      "Failed on \n",
      "Failed on \n",
      "Failed on \n",
      "Failed on \n",
      "Failed on \n",
      "Failed on \n",
      "Failed on \n",
      "Failed on \n",
      "Failed on \n",
      "Failed on \n",
      "Failed on \n",
      "Failed on \n",
      "Failed on \n",
      "Failed on \n",
      "Failed on \n",
      "Failed on \n",
      "Failed on \n",
      "Failed on \n",
      "Failed on \n",
      "Failed on \n",
      "Failed on \n",
      "Failed on \n",
      "Failed on \n",
      "Failed on \n",
      "Failed on \n",
      "Failed on \n",
      "Failed on \n",
      "Failed on \n",
      "Failed on 2016:04:06 13:43:38+09:00\n",
      "Failed on 2016:04:06 13:48:30+09:00\n",
      "Failed on 2016:04:06 13:48:30+09:00\n",
      "Failed on 2016:04:06 13:43:38+09:00\n",
      "Failed on \n",
      "Failed on \n",
      "Failed on \n",
      "Failed on \n",
      "Failed on \n",
      "Failed on \n",
      "Failed on \n",
      "Failed on \n",
      "Failed on \n",
      "Failed on \n",
      "Failed on \n",
      "Failed on \n",
      "Failed on \n",
      "Failed on \n",
      "Failed on \n",
      "Failed on \n",
      "Failed on \n",
      "Failed on \n",
      "Failed on \n",
      "Failed on \n",
      "Failed on \n",
      "Failed on \n",
      "Failed on \n",
      "Failed on \n",
      "Failed on \n",
      "Failed on \n",
      "Failed on \n",
      "Failed on \n",
      "Failed on \n",
      "Failed on \n",
      "Failed on \n",
      "Failed on \n",
      "Failed on \n",
      "Failed on \n",
      "Failed on \n",
      "Failed on \n",
      "Failed on \n",
      "Failed on \n",
      "Failed on \n",
      "Failed on \n",
      "Failed on \n",
      "Failed on \n",
      "Failed on \n",
      "Failed on \n",
      "Failed on \n",
      "Failed on \n",
      "Failed on \n",
      "Failed on \n",
      "Failed on \n",
      "Failed on \n",
      "Failed on \n",
      "Failed on \n",
      "Failed on \n",
      "Failed on \n",
      "Failed on \n",
      "Failed on \n",
      "Failed on \n",
      "Failed on \n",
      "Failed on \n",
      "Failed on \n",
      "Failed on \n",
      "Failed on \n",
      "Failed on \n",
      "Failed on \n",
      "Failed on \n",
      "Failed on \n",
      "Failed on \n",
      "Failed on \n",
      "Failed on \n",
      "Failed on \n",
      "Failed on \n",
      "Failed on \n",
      "Failed on \n",
      "Failed on \n",
      "Failed on \n",
      "Failed on \n",
      "Failed on \n",
      "Failed on \n",
      "Failed on \n",
      "Failed on \n",
      "Failed on \n",
      "Failed on \n",
      "Failed on \n",
      "Failed on \n",
      "Failed on \n",
      "Failed on \n",
      "Failed on \n",
      "Failed on \n",
      "Failed on \n",
      "Failed on \n",
      "Failed on \n",
      "Failed on \n",
      "Failed on \n",
      "Failed on \n",
      "Failed on \n",
      "Failed on \n",
      "Failed on \n",
      "Failed on \n",
      "Failed on \n",
      "Failed on \n",
      "Failed on \n",
      "Failed on \n",
      "Failed on \n",
      "Failed on \n",
      "Failed on \n",
      "Failed on \n",
      "Failed on \n",
      "Failed on \n",
      "Failed on \n",
      "Failed on \n",
      "Failed on \n",
      "Failed on \n",
      "Failed on \n",
      "Failed on \n",
      "Failed on \n",
      "Failed on \n",
      "Failed on \n",
      "Failed on \n",
      "Failed on \n",
      "Failed on \n",
      "Failed on \n",
      "Failed on \n",
      "Failed on \n",
      "Failed on \n",
      "Failed on \n",
      "Failed on \n",
      "Failed on \n",
      "Failed on \n",
      "Failed on \n",
      "Failed on \n",
      "Failed on \n",
      "Failed on \n",
      "Failed on \n",
      "Failed on \n",
      "Failed on \n",
      "Failed on \n",
      "Failed on \n",
      "Failed on \n",
      "Failed on \n",
      "Failed on \n",
      "Failed on \n",
      "Failed on \n",
      "Failed on \n",
      "Failed on \n",
      "Failed on \n",
      "Failed on \n",
      "Failed on \n",
      "Failed on \n",
      "Failed on \n",
      "Failed on \n",
      "Failed on \n",
      "Failed on \n",
      "Failed on \n",
      "Failed on \n",
      "Failed on \n",
      "Failed on \n",
      "Failed on \n",
      "Failed on \n",
      "Failed on \n",
      "Failed on \n",
      "Failed on \n",
      "Failed on \n",
      "Failed on \n",
      "Failed on \n",
      "Failed on \n",
      "Failed on \n",
      "Failed on \n",
      "Failed on \n",
      "Failed on \n",
      "Failed on \n",
      "Failed on \n",
      "Failed on \n",
      "Failed on \n",
      "Failed on \n",
      "Failed on \n",
      "Failed on \n",
      "Failed on \n",
      "Failed on \n",
      "Failed on \n",
      "Failed on \n",
      "Failed on \n",
      "Failed on \n",
      "Failed on \n",
      "Failed on \n",
      "Failed on \n",
      "Failed on \n",
      "Failed on \n",
      "Failed on \n",
      "Failed on \n",
      "Failed on \n",
      "Failed on \n",
      "Failed on \n",
      "Failed on \n",
      "Failed on \n",
      "Failed on \n",
      "Failed on \n",
      "Failed on \n",
      "Failed on \n",
      "Failed on \n",
      "Failed on \n",
      "Failed on \n",
      "Failed on \n",
      "Failed on \n",
      "Failed on \n",
      "Failed on \n",
      "Failed on \n",
      "Failed on \n",
      "Failed on \n",
      "Failed on \n",
      "Failed on \n",
      "Failed on \n",
      "Failed on \n",
      "Failed on \n",
      "Failed on \n",
      "Failed on \n",
      "Failed on \n",
      "Failed on \n",
      "Failed on \n",
      "Failed on \n",
      "Failed on \n",
      "Failed on \n",
      "Failed on \n",
      "Failed on \n",
      "Failed on \n",
      "Failed on \n",
      "Failed on \n",
      "Failed on \n",
      "Failed on \n",
      "Failed on \n",
      "Failed on \n",
      "Failed on \n",
      "Failed on \n",
      "Failed on \n",
      "Failed on \n",
      "Failed on \n",
      "Failed on \n",
      "Failed on \n",
      "Failed on \n",
      "Failed on \n",
      "Failed on \n",
      "Failed on \n",
      "Failed on \n",
      "Failed on \n",
      "Failed on \n",
      "Failed on \n",
      "Failed on \n",
      "Failed on \n",
      "Failed on \n",
      "Failed on \n",
      "Failed on \n",
      "Failed on \n",
      "Failed on \n",
      "Failed on \n",
      "Failed on \n",
      "Failed on \n",
      "Failed on \n",
      "Failed on \n",
      "Failed on \n",
      "Failed on \n",
      "Failed on \n",
      "Failed on \n",
      "Failed on \n",
      "Failed on \n",
      "Failed on \n",
      "Failed on \n",
      "Failed on \n",
      "Failed on \n",
      "Failed on \n",
      "Failed on \n",
      "Failed on \n",
      "Failed on \n",
      "Failed on \n",
      "Failed on \n",
      "Failed on \n",
      "Failed on \n",
      "Failed on \n",
      "Failed on \n",
      "Failed on \n",
      "Failed on \n",
      "Failed on \n",
      "Failed on \n",
      "Failed on \n",
      "Failed on \n",
      "Failed on \n",
      "Failed on \n",
      "Failed on \n",
      "Failed on \n",
      "Failed on \n",
      "Failed on \n",
      "Failed on \n",
      "Failed on \n",
      "Failed on \n",
      "Failed on \n",
      "Failed on \n",
      "Failed on \n",
      "Failed on \n",
      "Failed on \n",
      "Failed on \n",
      "Failed on \n",
      "Failed on \n",
      "Failed on \n",
      "Failed on \n",
      "Failed on \n",
      "Failed on \n",
      "Failed on \n",
      "Failed on \n",
      "Failed on \n",
      "Failed on \n",
      "Failed on \n",
      "Failed on \n",
      "Failed on \n",
      "Failed on \n",
      "Failed on \n",
      "Failed on \n",
      "Failed on \n",
      "Failed on \n",
      "Failed on \n",
      "Failed on \n",
      "Failed on \n",
      "Failed on \n",
      "Failed on \n",
      "Failed on \n",
      "Failed on \n",
      "Failed on \n",
      "Failed on \n",
      "Failed on \n",
      "Failed on \n",
      "Failed on \n",
      "Failed on \n",
      "Failed on \n",
      "Failed on \n",
      "Failed on \n",
      "Failed on \n",
      "Failed on \n",
      "Failed on \n",
      "Failed on \n",
      "Failed on \n",
      "Failed on \n",
      "Failed on \n",
      "Failed on \n",
      "Failed on \n",
      "Failed on \n",
      "Failed on \n",
      "Failed on \n",
      "Failed on \n",
      "Failed on \n",
      "Failed on \n",
      "Failed on \n",
      "Failed on \n",
      "Failed on \n",
      "Failed on \n",
      "Failed on \n",
      "Failed on \n",
      "Failed on \n",
      "Failed on \n",
      "Failed on \n",
      "Failed on \n",
      "Failed on \n",
      "Failed on \n",
      "Failed on \n",
      "Failed on \n",
      "Failed on \n",
      "Failed on \n",
      "Failed on \n",
      "Failed on \n",
      "Failed on \n",
      "Failed on \n",
      "Failed on \n",
      "Failed on \n",
      "Failed on \n",
      "Failed on \n",
      "Failed on \n",
      "Failed on \n",
      "Failed on \n",
      "Failed on \n",
      "Failed on \n",
      "Failed on \n",
      "Failed on \n",
      "Failed on \n",
      "Failed on \n",
      "Failed on \n",
      "Failed on \n",
      "Failed on \n",
      "Failed on \n",
      "Failed on \n",
      "Failed on \n",
      "Failed on \n",
      "Failed on \n",
      "Failed on \n",
      "Failed on \n",
      "Failed on \n",
      "Failed on \n",
      "Failed on \n",
      "Failed on \n",
      "Failed on \n",
      "Failed on \n",
      "Failed on \n",
      "Failed on \n",
      "Failed on \n",
      "Failed on \n",
      "Failed on \n",
      "Failed on \n",
      "Failed on \n",
      "Failed on \n",
      "Failed on \n",
      "Failed on \n",
      "Failed on \n",
      "Failed on \n",
      "Failed on \n",
      "Failed on \n",
      "Failed on \n",
      "Failed on \n",
      "Failed on \n",
      "Failed on \n",
      "Failed on \n",
      "Failed on \n",
      "Failed on \n",
      "Failed on \n",
      "Failed on \n",
      "Failed on \n",
      "Failed on \n",
      "Failed on \n",
      "Failed on \n",
      "Failed on \n",
      "Failed on \n",
      "Failed on \n",
      "Failed on \n",
      "Failed on \n",
      "Failed on \n",
      "Failed on \n",
      "Failed on \n",
      "Failed on \n",
      "Failed on \n",
      "Failed on \n",
      "Failed on \n",
      "Failed on \n",
      "Failed on \n",
      "Failed on \n",
      "Failed on \n",
      "Failed on \n",
      "Failed on \n",
      "Failed on \n",
      "Failed on \n",
      "Failed on \n",
      "Failed on \n",
      "Failed on \n",
      "Failed on \n",
      "Failed on \n",
      "Failed on \n",
      "Failed on \n",
      "Failed on \n",
      "Failed on \n",
      "Failed on \n",
      "Failed on \n",
      "Failed on \n",
      "Failed on \n",
      "Failed on \n",
      "Failed on \n",
      "Failed on \n",
      "Failed on \n",
      "Failed on \n",
      "Failed on \n",
      "Failed on \n",
      "Failed on \n",
      "Failed on \n",
      "Failed on \n",
      "Failed on \n",
      "Failed on \n",
      "Failed on \n",
      "Failed on \n",
      "Failed on \n",
      "Failed on \n",
      "Failed on \n",
      "Failed on \n",
      "Failed on \n",
      "Failed on \n",
      "Failed on \n",
      "Failed on \n",
      "Failed on \n",
      "Failed on \n",
      "Failed on \n",
      "Failed on \n",
      "Failed on \n",
      "Failed on \n",
      "Failed on \n",
      "Failed on \n",
      "Failed on \n",
      "Failed on \n",
      "Failed on \n",
      "Failed on \n",
      "Failed on \n",
      "Failed on \n",
      "Failed on \n",
      "Failed on \n",
      "Failed on \n",
      "Failed on \n",
      "Failed on \n",
      "Failed on \n",
      "Failed on \n",
      "Failed on \n",
      "Failed on \n",
      "Failed on \n",
      "Failed on \n",
      "Failed on \n",
      "Failed on \n",
      "Failed on \n",
      "Failed on \n",
      "Failed on \n",
      "Failed on \n",
      "Failed on \n",
      "Failed on \n",
      "Failed on \n",
      "Failed on \n",
      "Failed on \n",
      "Failed on \n",
      "Failed on \n",
      "Failed on \n",
      "Failed on \n",
      "Failed on \n",
      "Failed on \n",
      "Failed on \n",
      "Failed on \n",
      "Failed on \n",
      "Failed on \n",
      "Failed on \n",
      "Failed on \n",
      "Failed on \n",
      "Failed on \n",
      "Failed on \n",
      "Failed on \n",
      "Failed on \n",
      "Failed on \n",
      "Failed on \n",
      "Failed on \n",
      "Failed on \n",
      "Failed on \n",
      "Failed on \n",
      "Failed on \n",
      "Failed on \n",
      "Failed on \n",
      "Failed on \n",
      "Failed on \n",
      "Failed on \n",
      "Failed on \n",
      "Failed on \n",
      "Failed on \n",
      "Failed on \n",
      "Failed on \n",
      "Failed on \n",
      "Failed on \n",
      "Failed on \n",
      "Failed on \n",
      "Failed on \n",
      "Failed on \n",
      "Failed on \n",
      "Failed on \n",
      "Failed on \n",
      "Failed on \n",
      "Failed on \n",
      "Failed on \n",
      "Failed on \n",
      "Failed on \n",
      "Failed on \n",
      "Failed on \n",
      "Failed on \n",
      "Failed on \n",
      "Failed on \n",
      "Failed on \n",
      "Failed on \n",
      "Failed on \n",
      "Failed on \n",
      "Failed on \n",
      "Failed on \n",
      "Failed on \n",
      "Failed on \n",
      "Failed on \n",
      "Failed on \n",
      "Failed on \n",
      "Failed on \n",
      "Failed on \n",
      "Failed on \n",
      "Failed on \n",
      "Failed on \n",
      "Failed on \n",
      "Failed on \n",
      "Failed on \n",
      "Failed on \n",
      "Failed on \n",
      "Failed on \n",
      "Failed on \n",
      "Failed on \n",
      "Failed on \n",
      "Failed on \n",
      "Failed on \n",
      "Failed on \n",
      "Failed on \n",
      "Failed on \n",
      "Failed on \n",
      "Failed on \n",
      "Failed on \n",
      "Failed on \n",
      "Failed on \n",
      "Failed on \n",
      "Failed on \n",
      "Failed on \n",
      "Failed on \n",
      "Failed on \n",
      "Failed on \n",
      "Failed on \n",
      "Failed on \n",
      "Failed on \n",
      "Failed on \n",
      "Failed on \n",
      "Failed on \n",
      "Failed on \n",
      "Failed on \n",
      "Failed on \n",
      "Failed on \n",
      "Failed on \n",
      "Failed on \n",
      "Failed on \n",
      "Failed on \n",
      "Failed on \n",
      "Failed on \n",
      "Failed on \n",
      "Failed on \n",
      "Failed on \n",
      "Failed on \n",
      "Failed on \n",
      "Failed on \n",
      "Failed on \n",
      "Failed on \n",
      "Failed on \n",
      "Failed on \n",
      "Failed on \n",
      "Failed on \n",
      "Failed on \n",
      "Failed on \n",
      "Failed on \n",
      "Failed on \n",
      "Failed on \n",
      "Failed on \n",
      "Failed on \n",
      "Failed on \n",
      "Failed on \n",
      "Failed on \n",
      "Failed on \n",
      "Failed on \n",
      "Failed on \n",
      "Failed on \n",
      "Failed on \n",
      "Failed on \n",
      "Failed on \n",
      "Failed on \n",
      "Failed on \n",
      "Failed on \n",
      "Failed on \n",
      "Failed on \n",
      "Failed on \n",
      "Failed on \n",
      "Failed on \n",
      "Failed on \n",
      "Failed on \n",
      "Failed on \n",
      "Failed on \n",
      "Failed on \n",
      "Failed on \n",
      "Failed on \n",
      "Failed on \n",
      "Failed on \n",
      "Failed on \n",
      "Failed on \n",
      "Failed on \n",
      "Failed on \n",
      "Failed on \n",
      "Failed on \n",
      "Failed on \n",
      "Failed on \n",
      "Failed on \n",
      "Failed on \n",
      "Failed on \n",
      "Failed on \n",
      "Failed on \n",
      "Failed on \n",
      "Failed on \n",
      "Failed on \n",
      "Failed on \n",
      "Failed on \n",
      "Failed on \n",
      "Failed on \n",
      "Failed on \n",
      "Failed on \n",
      "Failed on \n",
      "Failed on \n",
      "Failed on \n",
      "Failed on \n",
      "Failed on \n",
      "Failed on \n",
      "Failed on \n",
      "Failed on \n",
      "Failed on \n",
      "Failed on \n",
      "Failed on \n",
      "Failed on \n",
      "Failed on \n",
      "Failed on \n",
      "Failed on \n",
      "Failed on \n",
      "Failed on \n",
      "Failed on \n",
      "Failed on \n",
      "Failed on \n",
      "Failed on \n",
      "Failed on \n",
      "Failed on \n",
      "Failed on \n",
      "Failed on \n",
      "Failed on \n",
      "Failed on \n",
      "Failed on \n",
      "Failed on \n",
      "Failed on \n",
      "Failed on \n",
      "Failed on \n",
      "Failed on \n",
      "Failed on \n",
      "Failed on \n",
      "Failed on \n",
      "Failed on \n",
      "Failed on \n",
      "Failed on \n",
      "Failed on \n",
      "Failed on \n",
      "Failed on \n",
      "Failed on \n",
      "Failed on \n",
      "Failed on \n",
      "Failed on \n",
      "Failed on \n",
      "Failed on \n",
      "Failed on \n"
     ]
    }
   ],
   "source": [
    "read_exif(exif_tag, step_photos_path, step_photos_path + 'exif_data.txt')\n",
    "\n",
    "def read_exif_txt(txt_path):\n",
    "    datetimes = {}\n",
    "    with open(txt_path, 'r') as f:\n",
    "        lines = f.readlines()\n",
    "    for line in lines:\n",
    "        if line.startswith('/'):\n",
    "            key = line.split('//')[1][:-5] #getting just image id\n",
    "            datetimes[key] = \"\"\n",
    "        else:\n",
    "            datetimes[key] = line.split('value ')[1].strip()\n",
    "    return datetimes\n",
    "    \n",
    "def add_taken_at(db, txt_path):\n",
    "    df = db.copy()\n",
    "    dic = read_exif_txt(txt_path)\n",
    "    series = pd.Series(dic)\n",
    "    df = df.set_index('image_id')\n",
    "    df.loc[:, 'taken_at'] = series\n",
    "    df = df.reset_index()\n",
    "    \n",
    "    return df\n",
    "\n",
    "step_photos_db = add_taken_at(step_photos_db, step_photos_path + 'exif_data.txt')\n",
    "\n",
    "#Convert time strings to  datetimes\n",
    "step_photos_db.taken_at = step_photos_db.taken_at.map(rules.convert_exif_to_datetime)\n",
    "c_m_photos_db.taken_at = c_m_photos_db.taken_at.map(rules.convert_ckpd_to_datetime)"
   ]
  },
  {
   "cell_type": "code",
   "execution_count": 9,
   "metadata": {
    "collapsed": false
   },
   "outputs": [],
   "source": [
    "def parse_label(fldr_path):\n",
    "    with open(fldr_path + 'label.txt', 'r') as f:\n",
    "        recipe = f.readline()\n",
    "        if recipe == 'recipe\\n':\n",
    "            lines = f.readlines()\n",
    "        else:\n",
    "            lines = []\n",
    "    \n",
    "    lines = [l.strip() for l in lines]\n",
    "    indexs = [i for i,v in enumerate(lines) if v.startswith('.')]\n",
    "    indexs.append(len(lines))\n",
    "    list_of_recipes = [lines[indexs[i]+1:indexs[i+1]] for i in range(len(indexs)-1)]\n",
    "                       \n",
    "    return list_of_recipes\n",
    "\n",
    "c_m_by_user = c_m_photos_db.groupby('user_id')\n",
    "cm_users = set(c_m_photos_db.user_id)\n",
    "all_recipes = {}\n",
    "\n",
    "for user_id in cm_users:\n",
    "    usr_fldr = c_m_photos_path + 'by_user/' + str(user_id) + '/'\n",
    "    recipes = parse_label(usr_fldr)\n",
    "    all_recipes[usr_fldr.split('/')[-2]] = recipes\n",
    "\n",
    "total_recipes = sum([len(v) for v in all_recipes.values()])"
   ]
  },
  {
   "cell_type": "markdown",
   "metadata": {},
   "source": [
    "Recipe total times"
   ]
  },
  {
   "cell_type": "code",
   "execution_count": 10,
   "metadata": {
    "collapsed": false
   },
   "outputs": [],
   "source": [
    "recipe_times = {}\n",
    "for user, recipes in all_recipes.items():\n",
    "    for i, recipe in enumerate(recipes):\n",
    "        recipe_times[str(user) + ' ' + str(i)] = pd.Series([c_m_photos_db[c_m_photos_db.image_id == recipe[0]].taken_at.values[0],\n",
    "           c_m_photos_db[c_m_photos_db.image_id == recipe[-1]].taken_at.values[0]]).diff().loc[1]"
   ]
  },
  {
   "cell_type": "code",
   "execution_count": 11,
   "metadata": {
    "collapsed": false
   },
   "outputs": [
    {
     "data": {
      "text/plain": [
       "[('6095538 10', Timedelta('0 days 00:00:13')),\n",
       " ('5478650 0', Timedelta('0 days 00:00:19')),\n",
       " ('6145517 0', Timedelta('0 days 00:00:37')),\n",
       " ('6145517 1', Timedelta('0 days 00:01:35')),\n",
       " ('6113790 2', Timedelta('0 days 00:02:08')),\n",
       " ('2432003 2', Timedelta('0 days 00:02:30')),\n",
       " ('5169069 0', Timedelta('0 days 00:02:44')),\n",
       " ('2432003 3', Timedelta('0 days 00:03:00')),\n",
       " ('3749105 1', Timedelta('0 days 00:03:29')),\n",
       " ('6129125 0', Timedelta('0 days 00:03:42')),\n",
       " ('2432003 1', Timedelta('0 days 00:04:00')),\n",
       " ('6044819 1', Timedelta('0 days 00:04:00')),\n",
       " ('2432003 0', Timedelta('0 days 00:04:00')),\n",
       " ('6066614 0', Timedelta('0 days 00:05:00')),\n",
       " ('5933140 2', Timedelta('0 days 00:05:03')),\n",
       " ('5988297 0', Timedelta('0 days 00:05:21')),\n",
       " ('5886383 2', Timedelta('0 days 00:05:27')),\n",
       " ('5933140 1', Timedelta('0 days 00:07:57')),\n",
       " ('5998322 0', Timedelta('0 days 00:08:32')),\n",
       " ('3536853 0', Timedelta('0 days 00:09:00')),\n",
       " ('5933140 0', Timedelta('0 days 00:09:25')),\n",
       " ('6095538 9', Timedelta('0 days 00:09:48')),\n",
       " ('6054932 12', Timedelta('0 days 00:10:32')),\n",
       " ('6054932 13', Timedelta('0 days 00:10:46')),\n",
       " ('2619362 0', Timedelta('0 days 00:11:11')),\n",
       " ('3749105 2', Timedelta('0 days 00:11:33')),\n",
       " ('5886383 4', Timedelta('0 days 00:13:44')),\n",
       " ('5958026 1', Timedelta('0 days 00:13:56')),\n",
       " ('6054932 10', Timedelta('0 days 00:14:15')),\n",
       " ('5607476 0', Timedelta('0 days 00:14:37')),\n",
       " ('2815209 0', Timedelta('0 days 00:15:56')),\n",
       " ('6136497 0', Timedelta('0 days 00:15:58')),\n",
       " ('6123394 0', Timedelta('0 days 00:16:11')),\n",
       " ('6132866 0', Timedelta('0 days 00:17:24')),\n",
       " ('6054932 1', Timedelta('0 days 00:18:06')),\n",
       " ('6054932 15', Timedelta('0 days 00:18:38')),\n",
       " ('5999868 0', Timedelta('0 days 00:19:05')),\n",
       " ('6054932 0', Timedelta('0 days 00:19:20')),\n",
       " ('6095538 0', Timedelta('0 days 00:19:26')),\n",
       " ('5989011 1', Timedelta('0 days 00:22:24')),\n",
       " ('2458250 1', Timedelta('0 days 00:23:00')),\n",
       " ('6095538 6', Timedelta('0 days 00:23:11')),\n",
       " ('5320942 0', Timedelta('0 days 00:23:29')),\n",
       " ('3465142 0', Timedelta('0 days 00:23:30')),\n",
       " ('3606055 4', Timedelta('0 days 00:24:28')),\n",
       " ('3909741 0', Timedelta('0 days 00:25:00')),\n",
       " ('5849867 0', Timedelta('0 days 00:25:21')),\n",
       " ('5958026 2', Timedelta('0 days 00:25:46')),\n",
       " ('6044819 0', Timedelta('0 days 00:27:00')),\n",
       " ('6056444 0', Timedelta('0 days 00:29:45')),\n",
       " ('5676429 0', Timedelta('0 days 00:34:00')),\n",
       " ('3565335 0', Timedelta('0 days 00:34:06')),\n",
       " ('6054932 7', Timedelta('0 days 00:35:00')),\n",
       " ('6152021 0', Timedelta('0 days 00:37:49')),\n",
       " ('5966197 0', Timedelta('0 days 00:39:18')),\n",
       " ('6054932 5', Timedelta('0 days 00:39:40')),\n",
       " ('6095538 7', Timedelta('0 days 00:40:45')),\n",
       " ('6113790 0', Timedelta('0 days 00:41:05')),\n",
       " ('5986793 0', Timedelta('0 days 00:41:05')),\n",
       " ('3117914 0', Timedelta('0 days 00:41:26')),\n",
       " ('5958026 0', Timedelta('0 days 00:43:46')),\n",
       " ('2458250 0', Timedelta('0 days 00:44:00')),\n",
       " ('3600897 2', Timedelta('0 days 00:45:00')),\n",
       " ('6113750 0', Timedelta('0 days 00:45:41')),\n",
       " ('6113790 1', Timedelta('0 days 00:46:48')),\n",
       " ('5991042 0', Timedelta('0 days 00:49:46')),\n",
       " ('6054932 9', Timedelta('0 days 00:53:31')),\n",
       " ('6054932 3', Timedelta('0 days 00:53:36')),\n",
       " ('6054932 4', Timedelta('0 days 00:57:16')),\n",
       " ('3814251 1', Timedelta('0 days 00:58:29')),\n",
       " ('5136702 0', Timedelta('0 days 01:00:57')),\n",
       " ('6054932 8', Timedelta('0 days 01:03:20')),\n",
       " ('3750851 0', Timedelta('0 days 01:08:03')),\n",
       " ('6054932 6', Timedelta('0 days 01:08:11')),\n",
       " ('6017413 0', Timedelta('0 days 01:08:21')),\n",
       " ('5961007 0', Timedelta('0 days 01:10:22')),\n",
       " ('3814251 0', Timedelta('0 days 01:10:35')),\n",
       " ('6056183 0', Timedelta('0 days 01:14:06')),\n",
       " ('3307333 0', Timedelta('0 days 01:19:27')),\n",
       " ('3606055 1', Timedelta('0 days 01:32:36')),\n",
       " ('6095538 5', Timedelta('0 days 01:34:47')),\n",
       " ('2834520 0', Timedelta('0 days 01:44:27')),\n",
       " ('6086859 0', Timedelta('0 days 01:54:00')),\n",
       " ('6054932 11', Timedelta('0 days 01:56:26')),\n",
       " ('6054932 16', Timedelta('0 days 01:56:43')),\n",
       " ('6054932 2', Timedelta('0 days 02:00:54')),\n",
       " ('5886383 1', Timedelta('0 days 02:01:05')),\n",
       " ('6095538 2', Timedelta('0 days 02:02:50')),\n",
       " ('3784516 0', Timedelta('0 days 02:03:00')),\n",
       " ('6095538 12', Timedelta('0 days 02:08:22')),\n",
       " ('6173019 0', Timedelta('0 days 02:09:09')),\n",
       " ('6095538 8', Timedelta('0 days 02:16:12')),\n",
       " ('3606055 5', Timedelta('0 days 02:17:47')),\n",
       " ('6095538 4', Timedelta('0 days 02:18:38')),\n",
       " ('3606055 2', Timedelta('0 days 02:19:21')),\n",
       " ('5136702 2', Timedelta('0 days 02:19:49')),\n",
       " ('6095538 13', Timedelta('0 days 02:26:39')),\n",
       " ('3600897 0', Timedelta('0 days 02:30:16')),\n",
       " ('5989011 0', Timedelta('0 days 02:35:05')),\n",
       " ('5136702 3', Timedelta('0 days 02:45:41')),\n",
       " ('6095538 11', Timedelta('0 days 02:47:51')),\n",
       " ('5989011 2', Timedelta('0 days 02:49:15')),\n",
       " ('3606055 0', Timedelta('0 days 02:51:56')),\n",
       " ('6084522 0', Timedelta('0 days 02:53:37')),\n",
       " ('5924472 0', Timedelta('0 days 02:57:32')),\n",
       " ('5821191 0', Timedelta('0 days 03:03:30')),\n",
       " ('5886383 0', Timedelta('0 days 03:15:39')),\n",
       " ('5798638 0', Timedelta('0 days 03:17:14')),\n",
       " ('6056444 1', Timedelta('0 days 03:17:41')),\n",
       " ('5886383 5', Timedelta('0 days 03:22:28')),\n",
       " ('5886383 3', Timedelta('0 days 03:34:04')),\n",
       " ('5136702 1', Timedelta('0 days 03:41:54')),\n",
       " ('3730701 0', Timedelta('0 days 04:24:29')),\n",
       " ('6095538 1', Timedelta('0 days 04:43:44')),\n",
       " ('3606055 3', Timedelta('0 days 07:05:16')),\n",
       " ('6095538 3', Timedelta('0 days 08:18:42')),\n",
       " ('6118259 0', Timedelta('0 days 08:48:46')),\n",
       " ('6054932 14', Timedelta('0 days 10:16:45')),\n",
       " ('3138535 0', Timedelta('0 days 12:35:00')),\n",
       " ('6113750 1', Timedelta('0 days 13:02:23')),\n",
       " ('3600897 1', Timedelta('0 days 22:39:07')),\n",
       " ('3749105 0', Timedelta('0 days 22:53:04')),\n",
       " ('2994747 0', Timedelta('1 days 00:48:01')),\n",
       " ('2432162 0', Timedelta('1 days 20:14:47'))]"
      ]
     },
     "execution_count": 11,
     "metadata": {},
     "output_type": "execute_result"
    }
   ],
   "source": [
    "sorted([(k,v) for k,v in recipe_times.items()], key=lambda x: x[1])"
   ]
  },
  {
   "cell_type": "code",
   "execution_count": 13,
   "metadata": {
    "collapsed": false
   },
   "outputs": [
    {
     "data": {
      "text/plain": [
       "<matplotlib.axes._subplots.AxesSubplot at 0x115c3ae10>"
      ]
     },
     "execution_count": 13,
     "metadata": {},
     "output_type": "execute_result"
    },
    {
     "data": {
      "image/png": "[encoded data removed]",
      "text/plain": [
       "<matplotlib.figure.Figure at 0x115c3a590>"
      ]
     },
     "metadata": {},
     "output_type": "display_data"
    }
   ],
   "source": [
    "pd.Series([x/124. for x in range(1,125)], index = sorted([x.seconds/60. for x in recipe_times.values()])).plot()"
   ]
  },
  {
   "cell_type": "code",
   "execution_count": 14,
   "metadata": {
    "collapsed": false
   },
   "outputs": [
    {
     "data": {
      "text/plain": [
       "<matplotlib.axes._subplots.AxesSubplot at 0x115dbd8d0>"
      ]
     },
     "execution_count": 14,
     "metadata": {},
     "output_type": "execute_result"
    },
    {
     "data": {
      "image/png": "[encoded data removed]",
      "text/plain": [
       "<matplotlib.figure.Figure at 0x115c3a290>"
      ]
     },
     "metadata": {},
     "output_type": "display_data"
    }
   ],
   "source": [
    "pd.Series([x/124. for x in range(1,125)], index = sorted([x.seconds/60. for x in recipe_times.values()])).loc[:150].plot()"
   ]
  },
  {
   "cell_type": "markdown",
   "metadata": {},
   "source": [
    "Suggestion times"
   ]
  },
  {
   "cell_type": "code",
   "execution_count": 15,
   "metadata": {
    "collapsed": true
   },
   "outputs": [],
   "source": [
    "chrono = c_m_photos_db.copy()\n",
    "chrono = chrono.set_index('image_id')"
   ]
  },
  {
   "cell_type": "code",
   "execution_count": 30,
   "metadata": {
    "collapsed": false
   },
   "outputs": [],
   "source": [
    "suggestion_times = {}\n",
    "\n",
    "for root, dirs, files in os.walk(c_m_photos_path + suggestions_fldr_name):\n",
    "    if not dirs: #We're at the bottom\n",
    "        num = root.split('/')[-1]\n",
    "        user = root.split('/')[-2]\n",
    "        #print user\n",
    "        with open(root+'/image_list.txt') as f:\n",
    "            images = f.readlines()\n",
    "        images = [i.strip()[:-4] for i in images]\n",
    "        times =  chrono.loc[images].taken_at\n",
    "        suggestion_times[user + ' ' + num] = pd.Series([times.min(), times.max()]).diff().loc[1]"
   ]
  },
  {
   "cell_type": "code",
   "execution_count": 32,
   "metadata": {
    "collapsed": false
   },
   "outputs": [
    {
     "data": {
      "text/plain": [
       "<matplotlib.axes._subplots.AxesSubplot at 0x116000c90>"
      ]
     },
     "execution_count": 32,
     "metadata": {},
     "output_type": "execute_result"
    },
    {
     "data": {
      "image/png": "[encoded data removed]",
      "text/plain": [
       "<matplotlib.figure.Figure at 0x115dbd190>"
      ]
     },
     "metadata": {},
     "output_type": "display_data"
    }
   ],
   "source": [
    "pd.Series([x/125. for x in range(1,126)], index = sorted([x.seconds/60. for x in suggestion_times.values()])).plot()"
   ]
  },
  {
   "cell_type": "code",
   "execution_count": 33,
   "metadata": {
    "collapsed": false
   },
   "outputs": [
    {
     "data": {
      "text/plain": [
       "<matplotlib.axes._subplots.AxesSubplot at 0x118ff00d0>"
      ]
     },
     "execution_count": 33,
     "metadata": {},
     "output_type": "execute_result"
    },
    {
     "data": {
      "image/png": "[encoded data removed]",
      "text/plain": [
       "<matplotlib.figure.Figure at 0x115d9c6d0>"
      ]
     },
     "metadata": {},
     "output_type": "display_data"
    }
   ],
   "source": [
    "pd.Series([x/125. for x in range(1,126)], index = sorted([x.seconds/60. for x in suggestion_times.values()])).loc[:60].plot()"
   ]
  },
  {
   "cell_type": "code",
   "execution_count": 34,
   "metadata": {
    "collapsed": true
   },
   "outputs": [],
   "source": [
    "mistakes = {2551222 :                                             [False],\n",
    "2949980                     :                         [False],\n",
    "3307333              :                          [False, True],\n",
    "3606055               :       [True, True, True, False, True],\n",
    "3749105               :                  [False, False, True],\n",
    "3814251               :                   [True, False, True],\n",
    "4493199               :          [False, False, False, False],\n",
    "5099165               :                               [False],\n",
    "5320942               :                               [False],\n",
    "5478650               :                               [False],\n",
    "5798062               :          [False, False, False, False],\n",
    "5830645               :                               [False],\n",
    "5849867               :                         [False, True],\n",
    "5886383               :            [True, False, True, False],\n",
    "5890788                :                       [False, False],\n",
    "5943465                :                              [False],\n",
    "5943486                :                              [False],\n",
    "5958026                :                        [True, False],\n",
    "5971371                :                              [False],\n",
    "5989011                :          [False, False, False, True],\n",
    "5991042                :                              [False],\n",
    "5996579                :                              [False],\n",
    "5999868                :                        [False, True],\n",
    "6042563                :                              [False],\n",
    "6054932   : [False,\n",
    " True,\n",
    " False,\n",
    " True,\n",
    " True,\n",
    " True,\n",
    " True,\n",
    " False,\n",
    " True,\n",
    " False,\n",
    " True,\n",
    " True,\n",
    " False,\n",
    " False],\n",
    "6056444    :                             [True, False, False],\n",
    "6057824    :              [False, False, False, False, False],\n",
    "6064860     :                                         [False],\n",
    "6086859     :                            [False, False, True],\n",
    "6095538 :  [True,\n",
    " False,\n",
    " False,\n",
    " False,\n",
    " True,\n",
    " True,\n",
    " True,\n",
    " False,\n",
    " True,\n",
    " True,\n",
    " True,\n",
    " True,\n",
    " True,\n",
    " True],\n",
    "6104306  :                                            [False],\n",
    "6115378  :                                            [False],\n",
    "6118778  :                                            [False],\n",
    "6129125  :                                            [False],\n",
    "6164649  :                                            [False],\n",
    "6173019   :                              [False, True, False] }"
   ]
  },
  {
   "cell_type": "code",
   "execution_count": 35,
   "metadata": {
    "collapsed": false
   },
   "outputs": [],
   "source": [
    "mistake_times = {}\n",
    "for user, li in mistakes.items():\n",
    "    for i, b in enumerate(li):\n",
    "        if not b:\n",
    "            mistake_times[str(user) + ' ' + str(i) ] = suggestion_times[str(user) + ' ' + str(i) ]"
   ]
  },
  {
   "cell_type": "code",
   "execution_count": 36,
   "metadata": {
    "collapsed": false
   },
   "outputs": [
    {
     "data": {
      "text/plain": [
       "<matplotlib.axes._subplots.AxesSubplot at 0x1190c1f90>"
      ]
     },
     "execution_count": 36,
     "metadata": {},
     "output_type": "execute_result"
    },
    {
     "data": {
      "image/png": "[encoded data removed]",
      "text/plain": [
       "<matplotlib.figure.Figure at 0x115808f90>"
      ]
     },
     "metadata": {},
     "output_type": "display_data"
    }
   ],
   "source": [
    "pd.Series([x/62. for x in range(1,63)], index = sorted([x.seconds/60. for x in mistake_times.values()])).plot()"
   ]
  },
  {
   "cell_type": "code",
   "execution_count": 37,
   "metadata": {
    "collapsed": true
   },
   "outputs": [],
   "source": [
    "import matplotlib\n",
    "import matplotlib.pyplot as plt"
   ]
  },
  {
   "cell_type": "code",
   "execution_count": 39,
   "metadata": {
    "collapsed": false
   },
   "outputs": [
    {
     "data": {
      "text/plain": [
       "<matplotlib.legend.Legend at 0x11950f1d0>"
      ]
     },
     "execution_count": 39,
     "metadata": {},
     "output_type": "execute_result"
    },
    {
     "data": {
      "image/png": "[encoded data removed]",
      "text/plain": [
       "<matplotlib.figure.Figure at 0x115d148d0>"
      ]
     },
     "metadata": {},
     "output_type": "display_data"
    }
   ],
   "source": [
    "matplotlib.figure.Figure()\n",
    "pd.Series([x/124. for x in range(1,125)], index = sorted([x.seconds/60. for x in recipe_times.values()])).loc[:250].plot()\n",
    "pd.Series([x/125. for x in range(1,126)], index = sorted([x.seconds/60. for x in suggestion_times.values()])).loc[:250].plot()\n",
    "pd.Series([x/62. for x in range(1,63)], index = sorted([x.seconds/60. for x in mistake_times.values()])).loc[:250].plot()\n",
    "plt.legend(['Recipes', 'Suggestions', 'Mistakes'],bbox_to_anchor=(1.05, 1), loc=2, borderaxespad=0.)"
   ]
  },
  {
   "cell_type": "code",
   "execution_count": 41,
   "metadata": {
    "collapsed": false
   },
   "outputs": [
    {
     "data": {
      "text/plain": [
       "<matplotlib.legend.Legend at 0x119562590>"
      ]
     },
     "execution_count": 41,
     "metadata": {},
     "output_type": "execute_result"
    },
    {
     "data": {
      "image/png": "[encoded data removed]",
      "text/plain": [
       "<matplotlib.figure.Figure at 0x119551350>"
      ]
     },
     "metadata": {},
     "output_type": "display_data"
    }
   ],
   "source": [
    "matplotlib.figure.Figure()\n",
    "pd.Series([x/124. for x in range(1,125)], index = sorted([x.seconds/60. for x in recipe_times.values()])).loc[:20].plot()\n",
    "pd.Series([x/125. for x in range(1,126)], index = sorted([x.seconds/60. for x in suggestion_times.values()])).loc[:20].plot()\n",
    "pd.Series([x/62. for x in range(1,63)], index = sorted([x.seconds/60. for x in mistake_times.values()])).loc[:20].plot()\n",
    "plt.legend(['Recipes', 'Suggestions', 'Mistakes'],bbox_to_anchor=(1.05, 1), loc=2, borderaxespad=0.)"
   ]
  },
  {
   "cell_type": "markdown",
   "metadata": {
    "collapsed": true
   },
   "source": [
    "Step time  diffs"
   ]
  },
  {
   "cell_type": "code",
   "execution_count": 42,
   "metadata": {
    "collapsed": false
   },
   "outputs": [],
   "source": [
    "recipe_diffs = {}\n",
    "for user, recipes in all_recipes.items():\n",
    "    for i, recipe in enumerate(recipes):\n",
    "        times = chrono.loc[recipe].taken_at.sort_values()\n",
    "        recipe_diffs[str(user) + ' ' + str(i)] = times.diff().dropna()"
   ]
  },
  {
   "cell_type": "code",
   "execution_count": 43,
   "metadata": {
    "collapsed": false
   },
   "outputs": [],
   "source": [
    "all_r_diffs = []\n",
    "for diffs in recipe_diffs.values():\n",
    "    all_r_diffs += [x/pd.Timedelta(minutes=1) for x in diffs.values]"
   ]
  },
  {
   "cell_type": "code",
   "execution_count": 44,
   "metadata": {
    "collapsed": false
   },
   "outputs": [
    {
     "name": "stdout",
     "output_type": "stream",
     "text": [
      "count     777.000000\n",
      "mean       23.337688\n",
      "std       133.951943\n",
      "min         0.000000\n",
      "25%         0.133333\n",
      "50%         1.333333\n",
      "75%         6.600000\n",
      "max      2510.383333\n",
      "dtype: float64\n"
     ]
    },
    {
     "data": {
      "text/plain": [
       "<matplotlib.axes._subplots.AxesSubplot at 0x11985a0d0>"
      ]
     },
     "execution_count": 44,
     "metadata": {},
     "output_type": "execute_result"
    },
    {
     "data": {
      "image/png": "[encoded data removed]",
      "text/plain": [
       "<matplotlib.figure.Figure at 0x119698d50>"
      ]
     },
     "metadata": {},
     "output_type": "display_data"
    }
   ],
   "source": [
    "test = pd.Series(all_r_diffs)\n",
    "print test.describe()\n",
    "test[(test>1) & (test<200)].hist(bins=30)"
   ]
  },
  {
   "cell_type": "code",
   "execution_count": 45,
   "metadata": {
    "collapsed": true
   },
   "outputs": [],
   "source": [
    "suggestion_diffs = {}\n",
    "\n",
    "for root, dirs, files in os.walk(c_m_photos_path + suggestions_fldr_name):\n",
    "    if not dirs: #We're at the bottom\n",
    "        num = root.split('/')[-1]\n",
    "        user = root.split('/')[-2]\n",
    "        #print user\n",
    "        with open(root+'/image_list.txt') as f:\n",
    "            images = f.readlines()\n",
    "        images = [i.strip()[:-4] for i in images]\n",
    "        times =  chrono.loc[images].taken_at.sort_values()\n",
    "        suggestion_diffs[user + ' ' + num] = times.diff().dropna()"
   ]
  },
  {
   "cell_type": "code",
   "execution_count": 46,
   "metadata": {
    "collapsed": true
   },
   "outputs": [],
   "source": [
    "all_s_diffs = []\n",
    "for diffs in suggestion_diffs.values():\n",
    "    all_s_diffs += [x/pd.Timedelta(minutes=1) for x in diffs.values]"
   ]
  },
  {
   "cell_type": "code",
   "execution_count": 47,
   "metadata": {
    "collapsed": false
   },
   "outputs": [
    {
     "name": "stdout",
     "output_type": "stream",
     "text": [
      "count    966.000000\n",
      "mean       9.602709\n",
      "std       21.655034\n",
      "min        0.000000\n",
      "25%        0.133333\n",
      "50%        1.091667\n",
      "75%        6.733333\n",
      "max      144.133333\n",
      "dtype: float64\n"
     ]
    },
    {
     "data": {
      "text/plain": [
       "<matplotlib.axes._subplots.AxesSubplot at 0x11997f290>"
      ]
     },
     "execution_count": 47,
     "metadata": {},
     "output_type": "execute_result"
    },
    {
     "data": {
      "image/png": "[encoded data removed]",
      "text/plain": [
       "<matplotlib.figure.Figure at 0x1198d7d10>"
      ]
     },
     "metadata": {},
     "output_type": "display_data"
    }
   ],
   "source": [
    "test = pd.Series(all_s_diffs)\n",
    "print test.describe()\n",
    "test[(test>1)].hist(bins=30)"
   ]
  },
  {
   "cell_type": "code",
   "execution_count": 48,
   "metadata": {
    "collapsed": true
   },
   "outputs": [],
   "source": [
    "mistake_diffs = {}\n",
    "for user, li in mistakes.items():\n",
    "    for i, b in enumerate(li):\n",
    "        if not b:\n",
    "            mistake_diffs[str(user) + ' ' + str(i) ] = suggestion_diffs[str(user) + ' ' + str(i) ]"
   ]
  },
  {
   "cell_type": "code",
   "execution_count": 49,
   "metadata": {
    "collapsed": true
   },
   "outputs": [],
   "source": [
    "all_m_diffs = []\n",
    "for diffs in mistake_diffs.values():\n",
    "    all_m_diffs += [x/pd.Timedelta(minutes=1) for x in diffs.values]"
   ]
  },
  {
   "cell_type": "code",
   "execution_count": 50,
   "metadata": {
    "collapsed": false
   },
   "outputs": [
    {
     "name": "stdout",
     "output_type": "stream",
     "text": [
      "count    470.000000\n",
      "mean       9.762979\n",
      "std       22.414487\n",
      "min        0.000000\n",
      "25%        0.150000\n",
      "50%        0.958333\n",
      "75%        6.858333\n",
      "max      144.133333\n",
      "dtype: float64\n"
     ]
    },
    {
     "data": {
      "text/plain": [
       "<matplotlib.axes._subplots.AxesSubplot at 0x119ba9510>"
      ]
     },
     "execution_count": 50,
     "metadata": {},
     "output_type": "execute_result"
    },
    {
     "data": {
      "image/png": "[encoded data removed]",
      "text/plain": [
       "<matplotlib.figure.Figure at 0x1191b9950>"
      ]
     },
     "metadata": {},
     "output_type": "display_data"
    }
   ],
   "source": [
    "test = pd.Series(all_m_diffs)\n",
    "print test.describe()\n",
    "test[(test>1)].hist(bins=30)"
   ]
  },
  {
   "cell_type": "code",
   "execution_count": 51,
   "metadata": {
    "collapsed": false
   },
   "outputs": [
    {
     "data": {
      "text/plain": [
       "<matplotlib.legend.Legend at 0x119ad63d0>"
      ]
     },
     "execution_count": 51,
     "metadata": {},
     "output_type": "execute_result"
    },
    {
     "data": {
      "image/png": "[encoded data removed]",
      "text/plain": [
       "<matplotlib.figure.Figure at 0x1191b9b50>"
      ]
     },
     "metadata": {},
     "output_type": "display_data"
    }
   ],
   "source": [
    "matplotlib.figure.Figure()\n",
    "test = pd.Series(all_r_diffs)\n",
    "test[(test>1) & (test<200)].hist(bins=30, alpha = .5, normed = True)\n",
    "test = pd.Series(all_s_diffs)\n",
    "#test[(test>1)].hist(bins=30, alpha = .7, normed = True)\n",
    "test = pd.Series(all_m_diffs)\n",
    "test[(test>1)].hist(bins=30, alpha = .7, normed = True)\n",
    "plt.legend(['Recipes', 'Mistakes', 'Mistakes'],bbox_to_anchor=(1.05, 1), loc=2, borderaxespad=0.)"
   ]
  },
  {
   "cell_type": "code",
   "execution_count": 52,
   "metadata": {
    "collapsed": false
   },
   "outputs": [
    {
     "name": "stdout",
     "output_type": "stream",
     "text": [
      "(754,)\n",
      "(777,)\n"
     ]
    }
   ],
   "source": [
    "test = pd.Series(all_r_diffs)\n",
    "print test[test<120].shape\n",
    "print test.shape"
   ]
  },
  {
   "cell_type": "code",
   "execution_count": null,
   "metadata": {
    "collapsed": true
   },
   "outputs": [],
   "source": []
  }
 ],
 "metadata": {
  "anaconda-cloud": {},
  "kernelspec": {
   "display_name": "Python [default]",
   "language": "python",
   "name": "python2"
  }
 },
 "nbformat": 4,
 "nbformat_minor": 1
}
